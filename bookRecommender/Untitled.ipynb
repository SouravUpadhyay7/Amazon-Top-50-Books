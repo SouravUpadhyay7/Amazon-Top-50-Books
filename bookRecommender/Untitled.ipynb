{
 "cells": [
  {
   "cell_type": "code",
   "execution_count": 1,
   "id": "c56c8897-eb45-409e-a8ca-7063b1d08849",
   "metadata": {},
   "outputs": [],
   "source": [
    "import pandas as pd"
   ]
  },
  {
   "cell_type": "code",
   "execution_count": 2,
   "id": "68db731d-6299-491e-8ab5-4bf2043fab79",
   "metadata": {},
   "outputs": [],
   "source": [
    "df = pd.read_csv('bestsellers with categories.csv')"
   ]
  },
  {
   "cell_type": "code",
   "execution_count": 3,
   "id": "3f68f8a0-8c24-4775-bcc1-2abc3a6ab354",
   "metadata": {},
   "outputs": [
    {
     "name": "stdout",
     "output_type": "stream",
     "text": [
      "                                                Name  \\\n",
      "0                      10-Day Green Smoothie Cleanse   \n",
      "1                                  11/22/63: A Novel   \n",
      "2            12 Rules for Life: An Antidote to Chaos   \n",
      "3                             1984 (Signet Classics)   \n",
      "4  5,000 Awesome Facts (About Everything!) (Natio...   \n",
      "\n",
      "                     Author  User Rating  Reviews  Price  Year        Genre  \n",
      "0                  JJ Smith          4.7    17350      8  2016  Non Fiction  \n",
      "1              Stephen King          4.6     2052     22  2011      Fiction  \n",
      "2        Jordan B. Peterson          4.7    18979     15  2018  Non Fiction  \n",
      "3             George Orwell          4.7    21424      6  2017      Fiction  \n",
      "4  National Geographic Kids          4.8     7665     12  2019  Non Fiction  \n"
     ]
    }
   ],
   "source": [
    "# Get the first 5 rows of the spreadsheet\n",
    "print(df.head())"
   ]
  },
  {
   "cell_type": "code",
   "execution_count": 4,
   "id": "6ef77158-6853-4740-9105-d591b47a013d",
   "metadata": {},
   "outputs": [
    {
     "name": "stdout",
     "output_type": "stream",
     "text": [
      "(550, 7)\n"
     ]
    }
   ],
   "source": [
    "# Get the shape of the spreadsheet\n",
    "print(df.shape)"
   ]
  },
  {
   "cell_type": "code",
   "execution_count": 5,
   "id": "384ffe7c-7b5a-40df-8db6-c6c7d8011016",
   "metadata": {},
   "outputs": [
    {
     "name": "stdout",
     "output_type": "stream",
     "text": [
      "Index(['Name', 'Author', 'User Rating', 'Reviews', 'Price', 'Year', 'Genre'], dtype='object')\n"
     ]
    }
   ],
   "source": [
    "# Get the column names of the spreadsheet\n",
    "print(df.columns)"
   ]
  },
  {
   "cell_type": "code",
   "execution_count": 6,
   "id": "d0f29ddb-26cb-4159-b1b6-b8f3a5e86152",
   "metadata": {},
   "outputs": [
    {
     "name": "stdout",
     "output_type": "stream",
     "text": [
      "       User Rating       Reviews       Price         Year\n",
      "count   550.000000    550.000000  550.000000   550.000000\n",
      "mean      4.618364  11953.281818   13.100000  2014.000000\n",
      "std       0.226980  11731.132017   10.842262     3.165156\n",
      "min       3.300000     37.000000    0.000000  2009.000000\n",
      "25%       4.500000   4058.000000    7.000000  2011.000000\n",
      "50%       4.700000   8580.000000   11.000000  2014.000000\n",
      "75%       4.800000  17253.250000   16.000000  2017.000000\n",
      "max       4.900000  87841.000000  105.000000  2019.000000\n"
     ]
    }
   ],
   "source": [
    "# Get summary statistics for each column\n",
    "print(df.describe())"
   ]
  },
  {
   "cell_type": "code",
   "execution_count": 8,
   "id": "8fd95fb5-7da2-4d44-94f9-7d439a58530c",
   "metadata": {},
   "outputs": [],
   "source": [
    "df.drop_duplicates(inplace=True)"
   ]
  },
  {
   "cell_type": "code",
   "execution_count": 9,
   "id": "d82db43f-6c6f-4c8e-b272-17010eba715c",
   "metadata": {},
   "outputs": [],
   "source": [
    "df.rename(columns={\"Name\": \"Title\", \"Year\": \"Publication Year\", \"User Rating\": \"Rating\"}, inplace=True)"
   ]
  },
  {
   "cell_type": "code",
   "execution_count": 10,
   "id": "04d33db8-9da0-4eda-9abe-9215acb5d112",
   "metadata": {},
   "outputs": [],
   "source": [
    "df[\"Price\"] = df[\"Price\"].astype(float)"
   ]
  },
  {
   "cell_type": "code",
   "execution_count": 11,
   "id": "25090d33-0b43-4cca-8e32-f1a8c905c772",
   "metadata": {},
   "outputs": [
    {
     "name": "stdout",
     "output_type": "stream",
     "text": [
      "Author\n",
      "Jeff Kinney                           12\n",
      "Suzanne Collins                       11\n",
      "Gary Chapman                          11\n",
      "Rick Riordan                          11\n",
      "American Psychological Association    10\n",
      "                                      ..\n",
      "Maurice Sendak                         1\n",
      "Cheryl Strayed                         1\n",
      "The Staff of The Late Show with",
      "       1\n",
      "Geneen Roth                            1\n",
      "Ken Follett                            1\n",
      "Name: count, Length: 248, dtype: int64\n"
     ]
    }
   ],
   "source": [
    "author_counts = df['Author'].value_counts()\n",
    "print(author_counts)"
   ]
  },
  {
   "cell_type": "code",
   "execution_count": 12,
   "id": "b9efa388-e05a-4516-baba-b86ee313f34b",
   "metadata": {},
   "outputs": [
    {
     "name": "stdout",
     "output_type": "stream",
     "text": [
      "Genre\n",
      "Fiction        4.648333\n",
      "Non Fiction    4.595161\n",
      "Name: Rating, dtype: float64\n"
     ]
    }
   ],
   "source": [
    "avg_rating_by_genre = df.groupby(\"Genre\")[\"Rating\"].mean()\n",
    "print(avg_rating_by_genre)"
   ]
  },
  {
   "cell_type": "code",
   "execution_count": 13,
   "id": "9a2ac16c-7f96-4400-9fff-e681c501382d",
   "metadata": {},
   "outputs": [],
   "source": [
    "# Export top selling authors to a CSV file\n",
    "author_counts.head(10).to_csv(\"top_authors.csv\")\n",
    "\n",
    "# Export average rating by genre to a CSV file\n",
    "avg_rating_by_genre.to_csv(\"avg_rating_by_genre.csv\")"
   ]
  },
  {
   "cell_type": "code",
   "execution_count": null,
   "id": "4f137ede-9fdd-46de-96ae-a5f67a63b3e5",
   "metadata": {},
   "outputs": [],
   "source": []
  }
 ],
 "metadata": {
  "kernelspec": {
   "display_name": "Python 3 (ipykernel)",
   "language": "python",
   "name": "python3"
  },
  "language_info": {
   "codemirror_mode": {
    "name": "ipython",
    "version": 3
   },
   "file_extension": ".py",
   "mimetype": "text/x-python",
   "name": "python",
   "nbconvert_exporter": "python",
   "pygments_lexer": "ipython3",
   "version": "3.12.4"
  }
 },
 "nbformat": 4,
 "nbformat_minor": 5
}
